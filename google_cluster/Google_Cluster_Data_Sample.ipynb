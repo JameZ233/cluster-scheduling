{
 "nbformat": 4,
 "nbformat_minor": 0,
 "metadata": {
  "colab": {
   "provenance": []
  },
  "kernelspec": {
   "name": "python3",
   "display_name": "Python 3"
  },
  "language_info": {
   "name": "python"
  }
 },
 "cells": [
  {
   "cell_type": "markdown",
   "source": [
    "# Sample Data Extraction\n",
    "This notebook shows how the sample data was extracted."
   ],
   "metadata": {
    "id": "6LqUNG0Q7_8f"
   }
  },
  {
   "cell_type": "code",
   "execution_count": null,
   "metadata": {
    "colab": {
     "base_uri": "https://localhost:8080/"
    },
    "id": "GO9yOQuy1YOX",
    "outputId": "0453a620-dcaa-456b-cda3-2726274bc259"
   },
   "outputs": [
    {
     "output_type": "stream",
     "name": "stdout",
     "text": [
      "Authenticated\n"
     ]
    }
   ],
   "source": [
    "#@title Please input your project id\n",
    "import numpy as np\n",
    "from google.cloud import bigquery\n",
    "from google.colab import auth\n",
    "from google.cloud.bigquery import magics\n",
    "\n",
    "auth.authenticate_user()\n",
    "print('Authenticated')\n",
    "project_id = 'cluster-scheduling-437114' #@param {type: \"string\"}\n",
    "# Set the default project id for %bigquery magic\n",
    "magics.context.project = project_id\n",
    "\n",
    "# Use the client to run queries constructed from a more complicated function.\n",
    "client = bigquery.Client(project=project_id)"
   ]
  },
  {
   "cell_type": "markdown",
   "source": [
    "## Data extraction and preprocessing\n",
    "\n",
    "The complete database description is in [Google cluster-usage traces v3](https://drive.google.com/file/d/10r6cnJ5cJ89fPWCgj7j4LtLBqYN9RiI9/view).\n",
    "\n",
    "For the CriticalPath(CPLen) in the [Graphene](https://urldefense.proofpoint.com/v2/url?u=https-3A__www.usenix.org_system_files_conference_osdi16_osdi16-2Dgrandl-2Dgraphene.pdf&d=DwMFaQ&c=009klHSCxuh5AI1vNQzSO0KGjl4nbi2Q0M1QLJX9BeE&r=DEq8DIQPbwANBsyzyzxSQv3mjmXjRODgIYtBTK-gui4&m=078MPcaTX48wul9O9gknhVcO3fsQTA6Ov6JI1in-ecXtU4icJBMG1SmTyloZeqfV&s=-jAA4VvdLT29JG8rZWsfp0NVKuHJ1t9X_nQnkGrCBs0&e=) paper, we need `collection_events` table.\n",
    "\n"
   ],
   "metadata": {
    "id": "iRKbRIvX3PAz"
   }
  },
  {
   "metadata": {},
   "cell_type": "markdown",
   "source": "### Extract users that has most complex DAGs"
  },
  {
   "metadata": {},
   "cell_type": "code",
   "outputs": [],
   "execution_count": null,
   "source": [
    "sql_usage = f'''\n",
    "SELECT\n",
    "    user,\n",
    "    SUM(ARRAY_LENGTH(start_after_collection_ids)) AS total_start_after_count\n",
    "FROM `google.com:google-cluster-data`.clusterdata_2019_a.collection_events\n",
    "WHERE start_after_collection_ids IS NOT NULL\n",
    "GROUP BY user\n",
    "ORDER BY total_start_after_count DESC\n",
    "LIMIT 20;\n",
    "    '''\n",
    "\n",
    "df_usage = client.query(sql_usage).to_dataframe()\n",
    "print(df_usage)"
   ]
  },
  {
   "metadata": {},
   "cell_type": "markdown",
   "source": "### One Query Returns ALL Needed Information from Google Cluster"
  },
  {
   "cell_type": "code",
   "source": [
    "sql_usage = f'''\n",
    "SELECT\n",
    "    events.collection_id,\n",
    "    MIN(events.time) AS start_time,\n",
    "    MAX(events.time) AS end_time,\n",
    "    MAX(events.time) - MIN(events.time) AS time_duration,\n",
    "    AVG(usage.average_usage.cpus) AS avg_cpu_usage,\n",
    "    AVG(usage.average_usage.memory) AS avg_memory_usage,\n",
    "    COUNT(events.collection_id) AS record_count,\n",
    "    ANY_VALUE(events.start_after_collection_ids) AS start_after_collection_ids\n",
    "FROM `google.com:google-cluster-data`.clusterdata_2019_a.collection_events AS events\n",
    "JOIN `google.com:google-cluster-data`.clusterdata_2019_a.instance_usage AS usage\n",
    "    ON events.collection_id = usage.collection_id\n",
    "WHERE events.collection_id NOT IN (\n",
    "    SELECT collection_id\n",
    "    FROM `google.com:google-cluster-data`.clusterdata_2019_a.collection_events\n",
    "    WHERE time = 0\n",
    ")\n",
    "AND events.user = 'oK6/v6yt7HllNcQmV3P6j+1evVLKuGv2+id3XJ0UoAk='\n",
    "GROUP BY\n",
    "    events.collection_id;\n",
    "    '''\n",
    "\n",
    "df_usage = client.query(sql_usage).to_dataframe()\n",
    "df_usage.head()\n",
    "df_usage.to_csv('SAMPLE_combination.csv',index=False)"
   ],
   "metadata": {
    "id": "aOdmC9td1xA8"
   },
   "execution_count": null,
   "outputs": []
  }
 ]
}
